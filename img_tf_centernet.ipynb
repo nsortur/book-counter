{
 "cells": [
  {
   "cell_type": "code",
   "execution_count": 1,
   "metadata": {
    "collapsed": true
   },
   "outputs": [
    {
     "name": "stdout",
     "output_type": "stream",
     "text": [
      "Using TensorFlow v2.4.0\n"
     ]
    }
   ],
   "source": [
    "import json\n",
    "import numpy as np\n",
    "import tensorflow as tf\n",
    "import tensorflow_hub as hub\n",
    "import cv2\n",
    "\n",
    "tf.get_logger().setLevel('ERROR')\n",
    "print(f'Using TensorFlow v{tf.__version__}')"
   ]
  },
  {
   "cell_type": "code",
   "execution_count": 2,
   "outputs": [],
   "source": [
    "with open('./assets/instances_val2017.json') as f:\n",
    "    dic = json.load(f)\n",
    "cats = dic['categories']"
   ],
   "metadata": {
    "collapsed": false,
    "pycharm": {
     "name": "#%%\n"
    }
   }
  },
  {
   "cell_type": "code",
   "execution_count": 3,
   "outputs": [
    {
     "name": "stdout",
     "output_type": "stream",
     "text": [
      "Loading model...\n",
      "Model loaded\n",
      "Analyzing image...\n",
      "Image analyzed\n"
     ]
    }
   ],
   "source": [
    "path = './assets/IMG_8389.JPG'\n",
    "img = cv2.imread(path)\n",
    "img = cv2.resize(img, (0, 0), fx=0.2, fy=0.2)\n",
    "img_tensor = np.expand_dims(img, axis=0)\n",
    "\n",
    "\n",
    "\n",
    "\n"
   ],
   "metadata": {
    "collapsed": false,
    "pycharm": {
     "name": "#%%\n"
    }
   }
  },
  {
   "cell_type": "code",
   "execution_count": null,
   "outputs": [],
   "source": [
    "print('Loading model...')\n",
    "detector = hub.load(\"https://tfhub.dev/tensorflow/centernet/resnet50v2_512x512_kpts/1\")\n",
    "print('Model loaded')\n",
    "\n",
    "print('Analyzing image...')\n",
    "result = detector(img_tensor)\n",
    "print('Image analyzed')"
   ],
   "metadata": {
    "collapsed": false,
    "pycharm": {
     "name": "#%%\n"
    }
   }
  },
  {
   "cell_type": "code",
   "execution_count": 4,
   "outputs": [],
   "source": [
    "def bound_label(width, height, det_box, det_idx):\n",
    "    x1, y1 = int(det_box[0][1] * width), int(det_box[0][0] * height)\n",
    "    x2, y2 = int(det_box[0][3] * width), int(det_box[0][2] * height)\n",
    "\n",
    "    _ = cv2.rectangle(im_draw,\n",
    "                      (x1, y1),\n",
    "                      (x2, y2),\n",
    "                      (0, 255, 0),\n",
    "                      thickness=2)\n",
    "    _ = cv2.putText(im_draw,\n",
    "                    get_lbl(det_idx),\n",
    "                    (int((x2 + x1) / 2) - 30, y1 - 10),\n",
    "                    cv2.FONT_HERSHEY_SIMPLEX,\n",
    "                    0.8, (0, 255, 0), 2)\n",
    "    box_pts_so_far.append([x1, y1])\n",
    "\n",
    "\n",
    "def get_lbl(curr):\n",
    "    res_idx = result['detection_classes'].numpy()[0][curr]\n",
    "    res = filter(lambda x: x['id'] == res_idx, cats)\n",
    "    return list(res)[0]['name']"
   ],
   "metadata": {
    "collapsed": false,
    "pycharm": {
     "name": "#%%\n"
    }
   }
  },
  {
   "cell_type": "code",
   "execution_count": null,
   "outputs": [
    {
     "name": "stdout",
     "output_type": "stream",
     "text": [
      "Original scores:  [0.37023804 0.34426802 0.3134058  0.31316328 0.299519   0.29925472\n",
      " 0.29026008 0.27294168 0.24799562 0.22251144 0.208561   0.19929907\n",
      " 0.19740593 0.18985835 0.17593944 0.17417106 0.16785374 0.15720814\n",
      " 0.14259258 0.12554961 0.11501276 0.11385912 0.11011595 0.09650937\n",
      " 0.09589851 0.09365949 0.09299746 0.08893877 0.08609852 0.08587015\n",
      " 0.08160517 0.07831895 0.07521957 0.06936061 0.06673166 0.05962634\n",
      " 0.05842853 0.05778667 0.05616915 0.05377981 0.0530901  0.05281153\n",
      " 0.05070516 0.05009025 0.05005103 0.04879585 0.04855418 0.04779768\n",
      " 0.04712978 0.04631257 0.04627615 0.04333517 0.0425365  0.0420858\n",
      " 0.04194438 0.04178807 0.04117534 0.04048437 0.04046732 0.04027984\n",
      " 0.03983277 0.03942087 0.0387488  0.03851607 0.03834599 0.03833455\n",
      " 0.03806099 0.03801602 0.03779337 0.03639311 0.03621039 0.03586844\n",
      " 0.0352436  0.03520334 0.03462392 0.03440154 0.03397003 0.03386879\n",
      " 0.03353217 0.03345549 0.03339043 0.03320858 0.03316593 0.03311944\n",
      " 0.03293824 0.03218165 0.03216046 0.03166789 0.03161737 0.0315991\n",
      " 0.03157002 0.03154296 0.03108072 0.03103149 0.03030252 0.03023791\n",
      " 0.03022215 0.02950612 0.02938002 0.02908802]\n",
      "Confident scores:  [0.37023804 0.34426802 0.3134058  0.31316328 0.299519   0.29925472\n",
      " 0.29026008 0.27294168 0.24799562 0.22251144 0.208561   0.19929907\n",
      " 0.19740593 0.18985835]\n"
     ]
    }
   ],
   "source": [
    "book_count = 0\n",
    "box_pts_so_far = []\n",
    "\n",
    "# image to display\n",
    "im_draw = img.copy()\n",
    "width = im_draw.shape[1]\n",
    "height = im_draw.shape[0]\n",
    "\n",
    "# only classify confident images\n",
    "res_scores = result['detection_scores'].numpy()[0]\n",
    "# threshold (only take classifications with this or greater confidence)\n",
    "thresh = 0.18\n",
    "res_scores_confident = np.extract(res_scores >= thresh, res_scores)\n",
    "print('Original scores: ', res_scores)\n",
    "print('Confident scores: ', res_scores_confident)\n",
    "\n",
    "boxes = result['detection_boxes'].numpy()\n",
    "\n",
    "# tolerance (pixels) between top left detections\n",
    "# higher tolerance is less books counted\n",
    "tolerance = 0\n",
    "\n",
    "\n",
    "# check if a bounding box is within a certain x, y tolerance to be counted as the same book\n",
    "def good_box(bx):\n",
    "    good = True\n",
    "    x1, y1 = int(bx[0][1] * width), int(bx[0][0] * height)\n",
    "    for pt in box_pts_so_far:\n",
    "        good = abs(x1 - pt[0]) >= tolerance and abs(y1 - pt[1]) >= tolerance\n",
    "        if not good:\n",
    "            break\n",
    "    return good\n",
    "\n",
    "\n",
    "for det_idx in range(len(res_scores_confident)):\n",
    "    box = boxes[:, det_idx, :]\n",
    "    if get_lbl(det_idx) == \"book\" and good_box(box):\n",
    "        bound_label(width, height, box, det_idx)\n",
    "        book_count += 1\n",
    "\n",
    "cv2.putText(im_draw, f'Books: {book_count}', (im_draw.shape[1] - 140, im_draw.shape[0] - 30),\n",
    "            cv2.FONT_HERSHEY_COMPLEX, 0.8, (0, 255, 0), 2)\n",
    "\n",
    "cv2.imshow(\"Analyzed\", im_draw)\n",
    "cv2.waitKey(0)"
   ],
   "metadata": {
    "collapsed": false,
    "pycharm": {
     "name": "#%%\n",
     "is_executing": true
    }
   }
  }
 ],
 "metadata": {
  "kernelspec": {
   "display_name": "Python 3",
   "language": "python",
   "name": "python3"
  },
  "language_info": {
   "codemirror_mode": {
    "name": "ipython",
    "version": 2
   },
   "file_extension": ".py",
   "mimetype": "text/x-python",
   "name": "python",
   "nbconvert_exporter": "python",
   "pygments_lexer": "ipython2",
   "version": "2.7.6"
  }
 },
 "nbformat": 4,
 "nbformat_minor": 0
}